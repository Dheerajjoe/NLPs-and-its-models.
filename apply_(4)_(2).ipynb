{
  "nbformat": 4,
  "nbformat_minor": 0,
  "metadata": {
    "colab": {
      "name": "apply_(4) (2).ipynb",
      "provenance": [],
      "collapsed_sections": [],
      "include_colab_link": true
    },
    "kernelspec": {
      "name": "python3",
      "display_name": "Python 3"
    }
  },
  "cells": [
    {
      "cell_type": "markdown",
      "metadata": {
        "id": "view-in-github",
        "colab_type": "text"
      },
      "source": [
        "<a href=\"https://colab.research.google.com/github/Dheerajjoe/NLPs-and-its-models./blob/master/apply_(4)_(2).ipynb\" target=\"_parent\"><img src=\"https://colab.research.google.com/assets/colab-badge.svg\" alt=\"Open In Colab\"/></a>"
      ]
    },
    {
      "cell_type": "markdown",
      "metadata": {
        "id": "ZHyHVf4D9Hgy",
        "colab_type": "text"
      },
      "source": [
        "**Importing some libraries**\n"
      ]
    },
    {
      "cell_type": "code",
      "metadata": {
        "id": "lx2tjKwn9EHv",
        "colab_type": "code",
        "colab": {}
      },
      "source": [
        "import numpy as np\n",
        "import pandas as pd\n",
        "import seaborn as sns\n",
        "import matplotlib.pyplot as plt\n"
      ],
      "execution_count": null,
      "outputs": []
    },
    {
      "cell_type": "markdown",
      "metadata": {
        "id": "EhjUWfNj9Vvm",
        "colab_type": "text"
      },
      "source": [
        "**Putting the dataset**"
      ]
    },
    {
      "cell_type": "code",
      "metadata": {
        "id": "WYjucR_2Tcbj",
        "colab_type": "code",
        "colab": {
          "base_uri": "https://localhost:8080/",
          "height": 638
        },
        "outputId": "f429a6de-a4e3-4207-c3be-9a9745df0514"
      },
      "source": [
        "\n",
        "df = pd.read_excel(r'/content/apply.csv.xlsx')\n",
        "df"
      ],
      "execution_count": null,
      "outputs": [
        {
          "output_type": "execute_result",
          "data": {
            "text/html": [
              "<div>\n",
              "<style scoped>\n",
              "    .dataframe tbody tr th:only-of-type {\n",
              "        vertical-align: middle;\n",
              "    }\n",
              "\n",
              "    .dataframe tbody tr th {\n",
              "        vertical-align: top;\n",
              "    }\n",
              "\n",
              "    .dataframe thead th {\n",
              "        text-align: right;\n",
              "    }\n",
              "</style>\n",
              "<table border=\"1\" class=\"dataframe\">\n",
              "  <thead>\n",
              "    <tr style=\"text-align: right;\">\n",
              "      <th></th>\n",
              "      <th>tweet_id</th>\n",
              "      <th>sentiment</th>\n",
              "      <th>content</th>\n",
              "    </tr>\n",
              "  </thead>\n",
              "  <tbody>\n",
              "    <tr>\n",
              "      <th>0</th>\n",
              "      <td>1956967341</td>\n",
              "      <td>empty</td>\n",
              "      <td>@tiffanylue i know  i was listenin to bad habi...</td>\n",
              "    </tr>\n",
              "    <tr>\n",
              "      <th>1</th>\n",
              "      <td>1956967666</td>\n",
              "      <td>sadness</td>\n",
              "      <td>Layin n bed with a headache  ughhhh...waitin o...</td>\n",
              "    </tr>\n",
              "    <tr>\n",
              "      <th>2</th>\n",
              "      <td>1956967696</td>\n",
              "      <td>sadness</td>\n",
              "      <td>Funeral ceremony...gloomy friday...</td>\n",
              "    </tr>\n",
              "    <tr>\n",
              "      <th>3</th>\n",
              "      <td>1956967789</td>\n",
              "      <td>enthusiasm</td>\n",
              "      <td>wants to hang out with friends SOON!</td>\n",
              "    </tr>\n",
              "    <tr>\n",
              "      <th>4</th>\n",
              "      <td>1956968416</td>\n",
              "      <td>neutral</td>\n",
              "      <td>@dannycastillo We want to trade with someone w...</td>\n",
              "    </tr>\n",
              "    <tr>\n",
              "      <th>5</th>\n",
              "      <td>1956968477</td>\n",
              "      <td>worry</td>\n",
              "      <td>Re-pinging @ghostridah14: why didn't you go to...</td>\n",
              "    </tr>\n",
              "    <tr>\n",
              "      <th>6</th>\n",
              "      <td>1956968487</td>\n",
              "      <td>sadness</td>\n",
              "      <td>I should be sleep, but im not! thinking about ...</td>\n",
              "    </tr>\n",
              "    <tr>\n",
              "      <th>7</th>\n",
              "      <td>1956968636</td>\n",
              "      <td>worry</td>\n",
              "      <td>Hmmm. http://www.djhero.com/ is down</td>\n",
              "    </tr>\n",
              "    <tr>\n",
              "      <th>8</th>\n",
              "      <td>1956969035</td>\n",
              "      <td>sadness</td>\n",
              "      <td>@charviray Charlene my love. I miss you</td>\n",
              "    </tr>\n",
              "    <tr>\n",
              "      <th>9</th>\n",
              "      <td>1956969172</td>\n",
              "      <td>sadness</td>\n",
              "      <td>@kelcouch I'm sorry  at least it's Friday?</td>\n",
              "    </tr>\n",
              "    <tr>\n",
              "      <th>10</th>\n",
              "      <td>1956969456</td>\n",
              "      <td>neutral</td>\n",
              "      <td>cant fall asleep</td>\n",
              "    </tr>\n",
              "    <tr>\n",
              "      <th>11</th>\n",
              "      <td>1956969531</td>\n",
              "      <td>worry</td>\n",
              "      <td>Choked on her retainers</td>\n",
              "    </tr>\n",
              "    <tr>\n",
              "      <th>12</th>\n",
              "      <td>1956970047</td>\n",
              "      <td>sadness</td>\n",
              "      <td>Ugh! I have to beat this stupid song to get to...</td>\n",
              "    </tr>\n",
              "    <tr>\n",
              "      <th>13</th>\n",
              "      <td>1956970424</td>\n",
              "      <td>sadness</td>\n",
              "      <td>@BrodyJenner if u watch the hills in london u ...</td>\n",
              "    </tr>\n",
              "    <tr>\n",
              "      <th>14</th>\n",
              "      <td>1956970860</td>\n",
              "      <td>surprise</td>\n",
              "      <td>Got the news</td>\n",
              "    </tr>\n",
              "    <tr>\n",
              "      <th>15</th>\n",
              "      <td>1956971077</td>\n",
              "      <td>sadness</td>\n",
              "      <td>The storm is here and the electricity is gone</td>\n",
              "    </tr>\n",
              "    <tr>\n",
              "      <th>16</th>\n",
              "      <td>1956971170</td>\n",
              "      <td>love</td>\n",
              "      <td>@annarosekerr agreed</td>\n",
              "    </tr>\n",
              "    <tr>\n",
              "      <th>17</th>\n",
              "      <td>1956971206</td>\n",
              "      <td>sadness</td>\n",
              "      <td>So sleepy again and it's not even that late. I...</td>\n",
              "    </tr>\n",
              "    <tr>\n",
              "      <th>18</th>\n",
              "      <td>1956971473</td>\n",
              "      <td>worry</td>\n",
              "      <td>@PerezHilton lady gaga tweeted about not being...</td>\n",
              "    </tr>\n",
              "  </tbody>\n",
              "</table>\n",
              "</div>"
            ],
            "text/plain": [
              "      tweet_id   sentiment                                            content\n",
              "0   1956967341       empty  @tiffanylue i know  i was listenin to bad habi...\n",
              "1   1956967666     sadness  Layin n bed with a headache  ughhhh...waitin o...\n",
              "2   1956967696     sadness                Funeral ceremony...gloomy friday...\n",
              "3   1956967789  enthusiasm               wants to hang out with friends SOON!\n",
              "4   1956968416     neutral  @dannycastillo We want to trade with someone w...\n",
              "5   1956968477       worry  Re-pinging @ghostridah14: why didn't you go to...\n",
              "6   1956968487     sadness  I should be sleep, but im not! thinking about ...\n",
              "7   1956968636       worry               Hmmm. http://www.djhero.com/ is down\n",
              "8   1956969035     sadness            @charviray Charlene my love. I miss you\n",
              "9   1956969172     sadness         @kelcouch I'm sorry  at least it's Friday?\n",
              "10  1956969456     neutral                                   cant fall asleep\n",
              "11  1956969531       worry                            Choked on her retainers\n",
              "12  1956970047     sadness  Ugh! I have to beat this stupid song to get to...\n",
              "13  1956970424     sadness  @BrodyJenner if u watch the hills in london u ...\n",
              "14  1956970860    surprise                                       Got the news\n",
              "15  1956971077     sadness      The storm is here and the electricity is gone\n",
              "16  1956971170        love                               @annarosekerr agreed\n",
              "17  1956971206     sadness  So sleepy again and it's not even that late. I...\n",
              "18  1956971473       worry  @PerezHilton lady gaga tweeted about not being..."
            ]
          },
          "metadata": {
            "tags": []
          },
          "execution_count": 2
        }
      ]
    },
    {
      "cell_type": "markdown",
      "metadata": {
        "id": "d5wvrgpC9eLw",
        "colab_type": "text"
      },
      "source": [
        "**Classification of the sentiment column into the binary ones**"
      ]
    },
    {
      "cell_type": "code",
      "metadata": {
        "id": "9a9d1qDGUdjS",
        "colab_type": "code",
        "colab": {}
      },
      "source": [
        "a = pd.get_dummies(df['sentiment'])"
      ],
      "execution_count": null,
      "outputs": []
    },
    {
      "cell_type": "code",
      "metadata": {
        "id": "mj35IWZ0SWbC",
        "colab_type": "code",
        "colab": {
          "base_uri": "https://localhost:8080/",
          "height": 638
        },
        "outputId": "853ed1bf-b034-497e-9b33-174adae2da25"
      },
      "source": [
        "a"
      ],
      "execution_count": null,
      "outputs": [
        {
          "output_type": "execute_result",
          "data": {
            "text/html": [
              "<div>\n",
              "<style scoped>\n",
              "    .dataframe tbody tr th:only-of-type {\n",
              "        vertical-align: middle;\n",
              "    }\n",
              "\n",
              "    .dataframe tbody tr th {\n",
              "        vertical-align: top;\n",
              "    }\n",
              "\n",
              "    .dataframe thead th {\n",
              "        text-align: right;\n",
              "    }\n",
              "</style>\n",
              "<table border=\"1\" class=\"dataframe\">\n",
              "  <thead>\n",
              "    <tr style=\"text-align: right;\">\n",
              "      <th></th>\n",
              "      <th>empty</th>\n",
              "      <th>enthusiasm</th>\n",
              "      <th>love</th>\n",
              "      <th>neutral</th>\n",
              "      <th>sadness</th>\n",
              "      <th>surprise</th>\n",
              "      <th>worry</th>\n",
              "    </tr>\n",
              "  </thead>\n",
              "  <tbody>\n",
              "    <tr>\n",
              "      <th>0</th>\n",
              "      <td>1</td>\n",
              "      <td>0</td>\n",
              "      <td>0</td>\n",
              "      <td>0</td>\n",
              "      <td>0</td>\n",
              "      <td>0</td>\n",
              "      <td>0</td>\n",
              "    </tr>\n",
              "    <tr>\n",
              "      <th>1</th>\n",
              "      <td>0</td>\n",
              "      <td>0</td>\n",
              "      <td>0</td>\n",
              "      <td>0</td>\n",
              "      <td>1</td>\n",
              "      <td>0</td>\n",
              "      <td>0</td>\n",
              "    </tr>\n",
              "    <tr>\n",
              "      <th>2</th>\n",
              "      <td>0</td>\n",
              "      <td>0</td>\n",
              "      <td>0</td>\n",
              "      <td>0</td>\n",
              "      <td>1</td>\n",
              "      <td>0</td>\n",
              "      <td>0</td>\n",
              "    </tr>\n",
              "    <tr>\n",
              "      <th>3</th>\n",
              "      <td>0</td>\n",
              "      <td>1</td>\n",
              "      <td>0</td>\n",
              "      <td>0</td>\n",
              "      <td>0</td>\n",
              "      <td>0</td>\n",
              "      <td>0</td>\n",
              "    </tr>\n",
              "    <tr>\n",
              "      <th>4</th>\n",
              "      <td>0</td>\n",
              "      <td>0</td>\n",
              "      <td>0</td>\n",
              "      <td>1</td>\n",
              "      <td>0</td>\n",
              "      <td>0</td>\n",
              "      <td>0</td>\n",
              "    </tr>\n",
              "    <tr>\n",
              "      <th>5</th>\n",
              "      <td>0</td>\n",
              "      <td>0</td>\n",
              "      <td>0</td>\n",
              "      <td>0</td>\n",
              "      <td>0</td>\n",
              "      <td>0</td>\n",
              "      <td>1</td>\n",
              "    </tr>\n",
              "    <tr>\n",
              "      <th>6</th>\n",
              "      <td>0</td>\n",
              "      <td>0</td>\n",
              "      <td>0</td>\n",
              "      <td>0</td>\n",
              "      <td>1</td>\n",
              "      <td>0</td>\n",
              "      <td>0</td>\n",
              "    </tr>\n",
              "    <tr>\n",
              "      <th>7</th>\n",
              "      <td>0</td>\n",
              "      <td>0</td>\n",
              "      <td>0</td>\n",
              "      <td>0</td>\n",
              "      <td>0</td>\n",
              "      <td>0</td>\n",
              "      <td>1</td>\n",
              "    </tr>\n",
              "    <tr>\n",
              "      <th>8</th>\n",
              "      <td>0</td>\n",
              "      <td>0</td>\n",
              "      <td>0</td>\n",
              "      <td>0</td>\n",
              "      <td>1</td>\n",
              "      <td>0</td>\n",
              "      <td>0</td>\n",
              "    </tr>\n",
              "    <tr>\n",
              "      <th>9</th>\n",
              "      <td>0</td>\n",
              "      <td>0</td>\n",
              "      <td>0</td>\n",
              "      <td>0</td>\n",
              "      <td>1</td>\n",
              "      <td>0</td>\n",
              "      <td>0</td>\n",
              "    </tr>\n",
              "    <tr>\n",
              "      <th>10</th>\n",
              "      <td>0</td>\n",
              "      <td>0</td>\n",
              "      <td>0</td>\n",
              "      <td>1</td>\n",
              "      <td>0</td>\n",
              "      <td>0</td>\n",
              "      <td>0</td>\n",
              "    </tr>\n",
              "    <tr>\n",
              "      <th>11</th>\n",
              "      <td>0</td>\n",
              "      <td>0</td>\n",
              "      <td>0</td>\n",
              "      <td>0</td>\n",
              "      <td>0</td>\n",
              "      <td>0</td>\n",
              "      <td>1</td>\n",
              "    </tr>\n",
              "    <tr>\n",
              "      <th>12</th>\n",
              "      <td>0</td>\n",
              "      <td>0</td>\n",
              "      <td>0</td>\n",
              "      <td>0</td>\n",
              "      <td>1</td>\n",
              "      <td>0</td>\n",
              "      <td>0</td>\n",
              "    </tr>\n",
              "    <tr>\n",
              "      <th>13</th>\n",
              "      <td>0</td>\n",
              "      <td>0</td>\n",
              "      <td>0</td>\n",
              "      <td>0</td>\n",
              "      <td>1</td>\n",
              "      <td>0</td>\n",
              "      <td>0</td>\n",
              "    </tr>\n",
              "    <tr>\n",
              "      <th>14</th>\n",
              "      <td>0</td>\n",
              "      <td>0</td>\n",
              "      <td>0</td>\n",
              "      <td>0</td>\n",
              "      <td>0</td>\n",
              "      <td>1</td>\n",
              "      <td>0</td>\n",
              "    </tr>\n",
              "    <tr>\n",
              "      <th>15</th>\n",
              "      <td>0</td>\n",
              "      <td>0</td>\n",
              "      <td>0</td>\n",
              "      <td>0</td>\n",
              "      <td>1</td>\n",
              "      <td>0</td>\n",
              "      <td>0</td>\n",
              "    </tr>\n",
              "    <tr>\n",
              "      <th>16</th>\n",
              "      <td>0</td>\n",
              "      <td>0</td>\n",
              "      <td>1</td>\n",
              "      <td>0</td>\n",
              "      <td>0</td>\n",
              "      <td>0</td>\n",
              "      <td>0</td>\n",
              "    </tr>\n",
              "    <tr>\n",
              "      <th>17</th>\n",
              "      <td>0</td>\n",
              "      <td>0</td>\n",
              "      <td>0</td>\n",
              "      <td>0</td>\n",
              "      <td>1</td>\n",
              "      <td>0</td>\n",
              "      <td>0</td>\n",
              "    </tr>\n",
              "    <tr>\n",
              "      <th>18</th>\n",
              "      <td>0</td>\n",
              "      <td>0</td>\n",
              "      <td>0</td>\n",
              "      <td>0</td>\n",
              "      <td>0</td>\n",
              "      <td>0</td>\n",
              "      <td>1</td>\n",
              "    </tr>\n",
              "  </tbody>\n",
              "</table>\n",
              "</div>"
            ],
            "text/plain": [
              "    empty  enthusiasm  love  neutral  sadness  surprise  worry\n",
              "0       1           0     0        0        0         0      0\n",
              "1       0           0     0        0        1         0      0\n",
              "2       0           0     0        0        1         0      0\n",
              "3       0           1     0        0        0         0      0\n",
              "4       0           0     0        1        0         0      0\n",
              "5       0           0     0        0        0         0      1\n",
              "6       0           0     0        0        1         0      0\n",
              "7       0           0     0        0        0         0      1\n",
              "8       0           0     0        0        1         0      0\n",
              "9       0           0     0        0        1         0      0\n",
              "10      0           0     0        1        0         0      0\n",
              "11      0           0     0        0        0         0      1\n",
              "12      0           0     0        0        1         0      0\n",
              "13      0           0     0        0        1         0      0\n",
              "14      0           0     0        0        0         1      0\n",
              "15      0           0     0        0        1         0      0\n",
              "16      0           0     1        0        0         0      0\n",
              "17      0           0     0        0        1         0      0\n",
              "18      0           0     0        0        0         0      1"
            ]
          },
          "metadata": {
            "tags": []
          },
          "execution_count": 4
        }
      ]
    },
    {
      "cell_type": "markdown",
      "metadata": {
        "id": "jqHtdDyj94-T",
        "colab_type": "text"
      },
      "source": [
        "**Concat the column into the dataset**"
      ]
    },
    {
      "cell_type": "code",
      "metadata": {
        "id": "GlzBE6ewSa-i",
        "colab_type": "code",
        "colab": {}
      },
      "source": [
        "df = pd.concat([df, a], axis = 1)"
      ],
      "execution_count": null,
      "outputs": []
    },
    {
      "cell_type": "code",
      "metadata": {
        "id": "Z-ELP9TFSwrz",
        "colab_type": "code",
        "colab": {
          "base_uri": "https://localhost:8080/",
          "height": 808
        },
        "outputId": "d1c04ec2-0dd9-44fe-e6c1-5eaf42f7784f"
      },
      "source": [
        "df"
      ],
      "execution_count": null,
      "outputs": [
        {
          "output_type": "execute_result",
          "data": {
            "text/html": [
              "<div>\n",
              "<style scoped>\n",
              "    .dataframe tbody tr th:only-of-type {\n",
              "        vertical-align: middle;\n",
              "    }\n",
              "\n",
              "    .dataframe tbody tr th {\n",
              "        vertical-align: top;\n",
              "    }\n",
              "\n",
              "    .dataframe thead th {\n",
              "        text-align: right;\n",
              "    }\n",
              "</style>\n",
              "<table border=\"1\" class=\"dataframe\">\n",
              "  <thead>\n",
              "    <tr style=\"text-align: right;\">\n",
              "      <th></th>\n",
              "      <th>tweet_id</th>\n",
              "      <th>sentiment</th>\n",
              "      <th>content</th>\n",
              "      <th>empty</th>\n",
              "      <th>enthusiasm</th>\n",
              "      <th>love</th>\n",
              "      <th>neutral</th>\n",
              "      <th>sadness</th>\n",
              "      <th>surprise</th>\n",
              "      <th>worry</th>\n",
              "    </tr>\n",
              "  </thead>\n",
              "  <tbody>\n",
              "    <tr>\n",
              "      <th>0</th>\n",
              "      <td>1956967341</td>\n",
              "      <td>empty</td>\n",
              "      <td>@tiffanylue i know  i was listenin to bad habi...</td>\n",
              "      <td>1</td>\n",
              "      <td>0</td>\n",
              "      <td>0</td>\n",
              "      <td>0</td>\n",
              "      <td>0</td>\n",
              "      <td>0</td>\n",
              "      <td>0</td>\n",
              "    </tr>\n",
              "    <tr>\n",
              "      <th>1</th>\n",
              "      <td>1956967666</td>\n",
              "      <td>sadness</td>\n",
              "      <td>Layin n bed with a headache  ughhhh...waitin o...</td>\n",
              "      <td>0</td>\n",
              "      <td>0</td>\n",
              "      <td>0</td>\n",
              "      <td>0</td>\n",
              "      <td>1</td>\n",
              "      <td>0</td>\n",
              "      <td>0</td>\n",
              "    </tr>\n",
              "    <tr>\n",
              "      <th>2</th>\n",
              "      <td>1956967696</td>\n",
              "      <td>sadness</td>\n",
              "      <td>Funeral ceremony...gloomy friday...</td>\n",
              "      <td>0</td>\n",
              "      <td>0</td>\n",
              "      <td>0</td>\n",
              "      <td>0</td>\n",
              "      <td>1</td>\n",
              "      <td>0</td>\n",
              "      <td>0</td>\n",
              "    </tr>\n",
              "    <tr>\n",
              "      <th>3</th>\n",
              "      <td>1956967789</td>\n",
              "      <td>enthusiasm</td>\n",
              "      <td>wants to hang out with friends SOON!</td>\n",
              "      <td>0</td>\n",
              "      <td>1</td>\n",
              "      <td>0</td>\n",
              "      <td>0</td>\n",
              "      <td>0</td>\n",
              "      <td>0</td>\n",
              "      <td>0</td>\n",
              "    </tr>\n",
              "    <tr>\n",
              "      <th>4</th>\n",
              "      <td>1956968416</td>\n",
              "      <td>neutral</td>\n",
              "      <td>@dannycastillo We want to trade with someone w...</td>\n",
              "      <td>0</td>\n",
              "      <td>0</td>\n",
              "      <td>0</td>\n",
              "      <td>1</td>\n",
              "      <td>0</td>\n",
              "      <td>0</td>\n",
              "      <td>0</td>\n",
              "    </tr>\n",
              "    <tr>\n",
              "      <th>5</th>\n",
              "      <td>1956968477</td>\n",
              "      <td>worry</td>\n",
              "      <td>Re-pinging @ghostridah14: why didn't you go to...</td>\n",
              "      <td>0</td>\n",
              "      <td>0</td>\n",
              "      <td>0</td>\n",
              "      <td>0</td>\n",
              "      <td>0</td>\n",
              "      <td>0</td>\n",
              "      <td>1</td>\n",
              "    </tr>\n",
              "    <tr>\n",
              "      <th>6</th>\n",
              "      <td>1956968487</td>\n",
              "      <td>sadness</td>\n",
              "      <td>I should be sleep, but im not! thinking about ...</td>\n",
              "      <td>0</td>\n",
              "      <td>0</td>\n",
              "      <td>0</td>\n",
              "      <td>0</td>\n",
              "      <td>1</td>\n",
              "      <td>0</td>\n",
              "      <td>0</td>\n",
              "    </tr>\n",
              "    <tr>\n",
              "      <th>7</th>\n",
              "      <td>1956968636</td>\n",
              "      <td>worry</td>\n",
              "      <td>Hmmm. http://www.djhero.com/ is down</td>\n",
              "      <td>0</td>\n",
              "      <td>0</td>\n",
              "      <td>0</td>\n",
              "      <td>0</td>\n",
              "      <td>0</td>\n",
              "      <td>0</td>\n",
              "      <td>1</td>\n",
              "    </tr>\n",
              "    <tr>\n",
              "      <th>8</th>\n",
              "      <td>1956969035</td>\n",
              "      <td>sadness</td>\n",
              "      <td>@charviray Charlene my love. I miss you</td>\n",
              "      <td>0</td>\n",
              "      <td>0</td>\n",
              "      <td>0</td>\n",
              "      <td>0</td>\n",
              "      <td>1</td>\n",
              "      <td>0</td>\n",
              "      <td>0</td>\n",
              "    </tr>\n",
              "    <tr>\n",
              "      <th>9</th>\n",
              "      <td>1956969172</td>\n",
              "      <td>sadness</td>\n",
              "      <td>@kelcouch I'm sorry  at least it's Friday?</td>\n",
              "      <td>0</td>\n",
              "      <td>0</td>\n",
              "      <td>0</td>\n",
              "      <td>0</td>\n",
              "      <td>1</td>\n",
              "      <td>0</td>\n",
              "      <td>0</td>\n",
              "    </tr>\n",
              "    <tr>\n",
              "      <th>10</th>\n",
              "      <td>1956969456</td>\n",
              "      <td>neutral</td>\n",
              "      <td>cant fall asleep</td>\n",
              "      <td>0</td>\n",
              "      <td>0</td>\n",
              "      <td>0</td>\n",
              "      <td>1</td>\n",
              "      <td>0</td>\n",
              "      <td>0</td>\n",
              "      <td>0</td>\n",
              "    </tr>\n",
              "    <tr>\n",
              "      <th>11</th>\n",
              "      <td>1956969531</td>\n",
              "      <td>worry</td>\n",
              "      <td>Choked on her retainers</td>\n",
              "      <td>0</td>\n",
              "      <td>0</td>\n",
              "      <td>0</td>\n",
              "      <td>0</td>\n",
              "      <td>0</td>\n",
              "      <td>0</td>\n",
              "      <td>1</td>\n",
              "    </tr>\n",
              "    <tr>\n",
              "      <th>12</th>\n",
              "      <td>1956970047</td>\n",
              "      <td>sadness</td>\n",
              "      <td>Ugh! I have to beat this stupid song to get to...</td>\n",
              "      <td>0</td>\n",
              "      <td>0</td>\n",
              "      <td>0</td>\n",
              "      <td>0</td>\n",
              "      <td>1</td>\n",
              "      <td>0</td>\n",
              "      <td>0</td>\n",
              "    </tr>\n",
              "    <tr>\n",
              "      <th>13</th>\n",
              "      <td>1956970424</td>\n",
              "      <td>sadness</td>\n",
              "      <td>@BrodyJenner if u watch the hills in london u ...</td>\n",
              "      <td>0</td>\n",
              "      <td>0</td>\n",
              "      <td>0</td>\n",
              "      <td>0</td>\n",
              "      <td>1</td>\n",
              "      <td>0</td>\n",
              "      <td>0</td>\n",
              "    </tr>\n",
              "    <tr>\n",
              "      <th>14</th>\n",
              "      <td>1956970860</td>\n",
              "      <td>surprise</td>\n",
              "      <td>Got the news</td>\n",
              "      <td>0</td>\n",
              "      <td>0</td>\n",
              "      <td>0</td>\n",
              "      <td>0</td>\n",
              "      <td>0</td>\n",
              "      <td>1</td>\n",
              "      <td>0</td>\n",
              "    </tr>\n",
              "    <tr>\n",
              "      <th>15</th>\n",
              "      <td>1956971077</td>\n",
              "      <td>sadness</td>\n",
              "      <td>The storm is here and the electricity is gone</td>\n",
              "      <td>0</td>\n",
              "      <td>0</td>\n",
              "      <td>0</td>\n",
              "      <td>0</td>\n",
              "      <td>1</td>\n",
              "      <td>0</td>\n",
              "      <td>0</td>\n",
              "    </tr>\n",
              "    <tr>\n",
              "      <th>16</th>\n",
              "      <td>1956971170</td>\n",
              "      <td>love</td>\n",
              "      <td>@annarosekerr agreed</td>\n",
              "      <td>0</td>\n",
              "      <td>0</td>\n",
              "      <td>1</td>\n",
              "      <td>0</td>\n",
              "      <td>0</td>\n",
              "      <td>0</td>\n",
              "      <td>0</td>\n",
              "    </tr>\n",
              "    <tr>\n",
              "      <th>17</th>\n",
              "      <td>1956971206</td>\n",
              "      <td>sadness</td>\n",
              "      <td>So sleepy again and it's not even that late. I...</td>\n",
              "      <td>0</td>\n",
              "      <td>0</td>\n",
              "      <td>0</td>\n",
              "      <td>0</td>\n",
              "      <td>1</td>\n",
              "      <td>0</td>\n",
              "      <td>0</td>\n",
              "    </tr>\n",
              "    <tr>\n",
              "      <th>18</th>\n",
              "      <td>1956971473</td>\n",
              "      <td>worry</td>\n",
              "      <td>@PerezHilton lady gaga tweeted about not being...</td>\n",
              "      <td>0</td>\n",
              "      <td>0</td>\n",
              "      <td>0</td>\n",
              "      <td>0</td>\n",
              "      <td>0</td>\n",
              "      <td>0</td>\n",
              "      <td>1</td>\n",
              "    </tr>\n",
              "  </tbody>\n",
              "</table>\n",
              "</div>"
            ],
            "text/plain": [
              "      tweet_id   sentiment  ... surprise  worry\n",
              "0   1956967341       empty  ...        0      0\n",
              "1   1956967666     sadness  ...        0      0\n",
              "2   1956967696     sadness  ...        0      0\n",
              "3   1956967789  enthusiasm  ...        0      0\n",
              "4   1956968416     neutral  ...        0      0\n",
              "5   1956968477       worry  ...        0      1\n",
              "6   1956968487     sadness  ...        0      0\n",
              "7   1956968636       worry  ...        0      1\n",
              "8   1956969035     sadness  ...        0      0\n",
              "9   1956969172     sadness  ...        0      0\n",
              "10  1956969456     neutral  ...        0      0\n",
              "11  1956969531       worry  ...        0      1\n",
              "12  1956970047     sadness  ...        0      0\n",
              "13  1956970424     sadness  ...        0      0\n",
              "14  1956970860    surprise  ...        1      0\n",
              "15  1956971077     sadness  ...        0      0\n",
              "16  1956971170        love  ...        0      0\n",
              "17  1956971206     sadness  ...        0      0\n",
              "18  1956971473       worry  ...        0      1\n",
              "\n",
              "[19 rows x 10 columns]"
            ]
          },
          "metadata": {
            "tags": []
          },
          "execution_count": 6
        }
      ]
    },
    {
      "cell_type": "markdown",
      "metadata": {
        "id": "Rrv3Cbw_-O_g",
        "colab_type": "text"
      },
      "source": [
        "**Removing the existing col.**"
      ]
    },
    {
      "cell_type": "code",
      "metadata": {
        "id": "FaUHrLNzS0hE",
        "colab_type": "code",
        "colab": {
          "base_uri": "https://localhost:8080/",
          "height": 638
        },
        "outputId": "db4739f4-aeaf-48f3-df32-3cf452fcd105"
      },
      "source": [
        "df.drop(['sentiment'], axis =1)"
      ],
      "execution_count": null,
      "outputs": [
        {
          "output_type": "execute_result",
          "data": {
            "text/html": [
              "<div>\n",
              "<style scoped>\n",
              "    .dataframe tbody tr th:only-of-type {\n",
              "        vertical-align: middle;\n",
              "    }\n",
              "\n",
              "    .dataframe tbody tr th {\n",
              "        vertical-align: top;\n",
              "    }\n",
              "\n",
              "    .dataframe thead th {\n",
              "        text-align: right;\n",
              "    }\n",
              "</style>\n",
              "<table border=\"1\" class=\"dataframe\">\n",
              "  <thead>\n",
              "    <tr style=\"text-align: right;\">\n",
              "      <th></th>\n",
              "      <th>tweet_id</th>\n",
              "      <th>content</th>\n",
              "      <th>empty</th>\n",
              "      <th>enthusiasm</th>\n",
              "      <th>love</th>\n",
              "      <th>neutral</th>\n",
              "      <th>sadness</th>\n",
              "      <th>surprise</th>\n",
              "      <th>worry</th>\n",
              "    </tr>\n",
              "  </thead>\n",
              "  <tbody>\n",
              "    <tr>\n",
              "      <th>0</th>\n",
              "      <td>1956967341</td>\n",
              "      <td>@tiffanylue i know  i was listenin to bad habi...</td>\n",
              "      <td>1</td>\n",
              "      <td>0</td>\n",
              "      <td>0</td>\n",
              "      <td>0</td>\n",
              "      <td>0</td>\n",
              "      <td>0</td>\n",
              "      <td>0</td>\n",
              "    </tr>\n",
              "    <tr>\n",
              "      <th>1</th>\n",
              "      <td>1956967666</td>\n",
              "      <td>Layin n bed with a headache  ughhhh...waitin o...</td>\n",
              "      <td>0</td>\n",
              "      <td>0</td>\n",
              "      <td>0</td>\n",
              "      <td>0</td>\n",
              "      <td>1</td>\n",
              "      <td>0</td>\n",
              "      <td>0</td>\n",
              "    </tr>\n",
              "    <tr>\n",
              "      <th>2</th>\n",
              "      <td>1956967696</td>\n",
              "      <td>Funeral ceremony...gloomy friday...</td>\n",
              "      <td>0</td>\n",
              "      <td>0</td>\n",
              "      <td>0</td>\n",
              "      <td>0</td>\n",
              "      <td>1</td>\n",
              "      <td>0</td>\n",
              "      <td>0</td>\n",
              "    </tr>\n",
              "    <tr>\n",
              "      <th>3</th>\n",
              "      <td>1956967789</td>\n",
              "      <td>wants to hang out with friends SOON!</td>\n",
              "      <td>0</td>\n",
              "      <td>1</td>\n",
              "      <td>0</td>\n",
              "      <td>0</td>\n",
              "      <td>0</td>\n",
              "      <td>0</td>\n",
              "      <td>0</td>\n",
              "    </tr>\n",
              "    <tr>\n",
              "      <th>4</th>\n",
              "      <td>1956968416</td>\n",
              "      <td>@dannycastillo We want to trade with someone w...</td>\n",
              "      <td>0</td>\n",
              "      <td>0</td>\n",
              "      <td>0</td>\n",
              "      <td>1</td>\n",
              "      <td>0</td>\n",
              "      <td>0</td>\n",
              "      <td>0</td>\n",
              "    </tr>\n",
              "    <tr>\n",
              "      <th>5</th>\n",
              "      <td>1956968477</td>\n",
              "      <td>Re-pinging @ghostridah14: why didn't you go to...</td>\n",
              "      <td>0</td>\n",
              "      <td>0</td>\n",
              "      <td>0</td>\n",
              "      <td>0</td>\n",
              "      <td>0</td>\n",
              "      <td>0</td>\n",
              "      <td>1</td>\n",
              "    </tr>\n",
              "    <tr>\n",
              "      <th>6</th>\n",
              "      <td>1956968487</td>\n",
              "      <td>I should be sleep, but im not! thinking about ...</td>\n",
              "      <td>0</td>\n",
              "      <td>0</td>\n",
              "      <td>0</td>\n",
              "      <td>0</td>\n",
              "      <td>1</td>\n",
              "      <td>0</td>\n",
              "      <td>0</td>\n",
              "    </tr>\n",
              "    <tr>\n",
              "      <th>7</th>\n",
              "      <td>1956968636</td>\n",
              "      <td>Hmmm. http://www.djhero.com/ is down</td>\n",
              "      <td>0</td>\n",
              "      <td>0</td>\n",
              "      <td>0</td>\n",
              "      <td>0</td>\n",
              "      <td>0</td>\n",
              "      <td>0</td>\n",
              "      <td>1</td>\n",
              "    </tr>\n",
              "    <tr>\n",
              "      <th>8</th>\n",
              "      <td>1956969035</td>\n",
              "      <td>@charviray Charlene my love. I miss you</td>\n",
              "      <td>0</td>\n",
              "      <td>0</td>\n",
              "      <td>0</td>\n",
              "      <td>0</td>\n",
              "      <td>1</td>\n",
              "      <td>0</td>\n",
              "      <td>0</td>\n",
              "    </tr>\n",
              "    <tr>\n",
              "      <th>9</th>\n",
              "      <td>1956969172</td>\n",
              "      <td>@kelcouch I'm sorry  at least it's Friday?</td>\n",
              "      <td>0</td>\n",
              "      <td>0</td>\n",
              "      <td>0</td>\n",
              "      <td>0</td>\n",
              "      <td>1</td>\n",
              "      <td>0</td>\n",
              "      <td>0</td>\n",
              "    </tr>\n",
              "    <tr>\n",
              "      <th>10</th>\n",
              "      <td>1956969456</td>\n",
              "      <td>cant fall asleep</td>\n",
              "      <td>0</td>\n",
              "      <td>0</td>\n",
              "      <td>0</td>\n",
              "      <td>1</td>\n",
              "      <td>0</td>\n",
              "      <td>0</td>\n",
              "      <td>0</td>\n",
              "    </tr>\n",
              "    <tr>\n",
              "      <th>11</th>\n",
              "      <td>1956969531</td>\n",
              "      <td>Choked on her retainers</td>\n",
              "      <td>0</td>\n",
              "      <td>0</td>\n",
              "      <td>0</td>\n",
              "      <td>0</td>\n",
              "      <td>0</td>\n",
              "      <td>0</td>\n",
              "      <td>1</td>\n",
              "    </tr>\n",
              "    <tr>\n",
              "      <th>12</th>\n",
              "      <td>1956970047</td>\n",
              "      <td>Ugh! I have to beat this stupid song to get to...</td>\n",
              "      <td>0</td>\n",
              "      <td>0</td>\n",
              "      <td>0</td>\n",
              "      <td>0</td>\n",
              "      <td>1</td>\n",
              "      <td>0</td>\n",
              "      <td>0</td>\n",
              "    </tr>\n",
              "    <tr>\n",
              "      <th>13</th>\n",
              "      <td>1956970424</td>\n",
              "      <td>@BrodyJenner if u watch the hills in london u ...</td>\n",
              "      <td>0</td>\n",
              "      <td>0</td>\n",
              "      <td>0</td>\n",
              "      <td>0</td>\n",
              "      <td>1</td>\n",
              "      <td>0</td>\n",
              "      <td>0</td>\n",
              "    </tr>\n",
              "    <tr>\n",
              "      <th>14</th>\n",
              "      <td>1956970860</td>\n",
              "      <td>Got the news</td>\n",
              "      <td>0</td>\n",
              "      <td>0</td>\n",
              "      <td>0</td>\n",
              "      <td>0</td>\n",
              "      <td>0</td>\n",
              "      <td>1</td>\n",
              "      <td>0</td>\n",
              "    </tr>\n",
              "    <tr>\n",
              "      <th>15</th>\n",
              "      <td>1956971077</td>\n",
              "      <td>The storm is here and the electricity is gone</td>\n",
              "      <td>0</td>\n",
              "      <td>0</td>\n",
              "      <td>0</td>\n",
              "      <td>0</td>\n",
              "      <td>1</td>\n",
              "      <td>0</td>\n",
              "      <td>0</td>\n",
              "    </tr>\n",
              "    <tr>\n",
              "      <th>16</th>\n",
              "      <td>1956971170</td>\n",
              "      <td>@annarosekerr agreed</td>\n",
              "      <td>0</td>\n",
              "      <td>0</td>\n",
              "      <td>1</td>\n",
              "      <td>0</td>\n",
              "      <td>0</td>\n",
              "      <td>0</td>\n",
              "      <td>0</td>\n",
              "    </tr>\n",
              "    <tr>\n",
              "      <th>17</th>\n",
              "      <td>1956971206</td>\n",
              "      <td>So sleepy again and it's not even that late. I...</td>\n",
              "      <td>0</td>\n",
              "      <td>0</td>\n",
              "      <td>0</td>\n",
              "      <td>0</td>\n",
              "      <td>1</td>\n",
              "      <td>0</td>\n",
              "      <td>0</td>\n",
              "    </tr>\n",
              "    <tr>\n",
              "      <th>18</th>\n",
              "      <td>1956971473</td>\n",
              "      <td>@PerezHilton lady gaga tweeted about not being...</td>\n",
              "      <td>0</td>\n",
              "      <td>0</td>\n",
              "      <td>0</td>\n",
              "      <td>0</td>\n",
              "      <td>0</td>\n",
              "      <td>0</td>\n",
              "      <td>1</td>\n",
              "    </tr>\n",
              "  </tbody>\n",
              "</table>\n",
              "</div>"
            ],
            "text/plain": [
              "      tweet_id  ... worry\n",
              "0   1956967341  ...     0\n",
              "1   1956967666  ...     0\n",
              "2   1956967696  ...     0\n",
              "3   1956967789  ...     0\n",
              "4   1956968416  ...     0\n",
              "5   1956968477  ...     1\n",
              "6   1956968487  ...     0\n",
              "7   1956968636  ...     1\n",
              "8   1956969035  ...     0\n",
              "9   1956969172  ...     0\n",
              "10  1956969456  ...     0\n",
              "11  1956969531  ...     1\n",
              "12  1956970047  ...     0\n",
              "13  1956970424  ...     0\n",
              "14  1956970860  ...     0\n",
              "15  1956971077  ...     0\n",
              "16  1956971170  ...     0\n",
              "17  1956971206  ...     0\n",
              "18  1956971473  ...     1\n",
              "\n",
              "[19 rows x 9 columns]"
            ]
          },
          "metadata": {
            "tags": []
          },
          "execution_count": 7
        }
      ]
    },
    {
      "cell_type": "markdown",
      "metadata": {
        "id": "HRDmfpi3-XJr",
        "colab_type": "text"
      },
      "source": [
        "The correlation of new emotions"
      ]
    },
    {
      "cell_type": "code",
      "metadata": {
        "id": "-xPo-Dh1Umlb",
        "colab_type": "code",
        "colab": {
          "base_uri": "https://localhost:8080/",
          "height": 297
        },
        "outputId": "7d5fc791-62ad-4989-f0ae-46a88d925653"
      },
      "source": [
        "df_a = df.corr(method = 'pearson')\n",
        "df_a"
      ],
      "execution_count": null,
      "outputs": [
        {
          "output_type": "execute_result",
          "data": {
            "text/html": [
              "<div>\n",
              "<style scoped>\n",
              "    .dataframe tbody tr th:only-of-type {\n",
              "        vertical-align: middle;\n",
              "    }\n",
              "\n",
              "    .dataframe tbody tr th {\n",
              "        vertical-align: top;\n",
              "    }\n",
              "\n",
              "    .dataframe thead th {\n",
              "        text-align: right;\n",
              "    }\n",
              "</style>\n",
              "<table border=\"1\" class=\"dataframe\">\n",
              "  <thead>\n",
              "    <tr style=\"text-align: right;\">\n",
              "      <th></th>\n",
              "      <th>tweet_id</th>\n",
              "      <th>empty</th>\n",
              "      <th>enthusiasm</th>\n",
              "      <th>love</th>\n",
              "      <th>neutral</th>\n",
              "      <th>sadness</th>\n",
              "      <th>surprise</th>\n",
              "      <th>worry</th>\n",
              "    </tr>\n",
              "  </thead>\n",
              "  <tbody>\n",
              "    <tr>\n",
              "      <th>tweet_id</th>\n",
              "      <td>1.000000</td>\n",
              "      <td>-0.360744</td>\n",
              "      <td>-0.280945</td>\n",
              "      <td>0.321285</td>\n",
              "      <td>-0.111527</td>\n",
              "      <td>0.040915</td>\n",
              "      <td>0.266067</td>\n",
              "      <td>0.063605</td>\n",
              "    </tr>\n",
              "    <tr>\n",
              "      <th>empty</th>\n",
              "      <td>-0.360744</td>\n",
              "      <td>1.000000</td>\n",
              "      <td>-0.055556</td>\n",
              "      <td>-0.055556</td>\n",
              "      <td>-0.080845</td>\n",
              "      <td>-0.223607</td>\n",
              "      <td>-0.055556</td>\n",
              "      <td>-0.121716</td>\n",
              "    </tr>\n",
              "    <tr>\n",
              "      <th>enthusiasm</th>\n",
              "      <td>-0.280945</td>\n",
              "      <td>-0.055556</td>\n",
              "      <td>1.000000</td>\n",
              "      <td>-0.055556</td>\n",
              "      <td>-0.080845</td>\n",
              "      <td>-0.223607</td>\n",
              "      <td>-0.055556</td>\n",
              "      <td>-0.121716</td>\n",
              "    </tr>\n",
              "    <tr>\n",
              "      <th>love</th>\n",
              "      <td>0.321285</td>\n",
              "      <td>-0.055556</td>\n",
              "      <td>-0.055556</td>\n",
              "      <td>1.000000</td>\n",
              "      <td>-0.080845</td>\n",
              "      <td>-0.223607</td>\n",
              "      <td>-0.055556</td>\n",
              "      <td>-0.121716</td>\n",
              "    </tr>\n",
              "    <tr>\n",
              "      <th>neutral</th>\n",
              "      <td>-0.111527</td>\n",
              "      <td>-0.080845</td>\n",
              "      <td>-0.080845</td>\n",
              "      <td>-0.080845</td>\n",
              "      <td>1.000000</td>\n",
              "      <td>-0.325396</td>\n",
              "      <td>-0.080845</td>\n",
              "      <td>-0.177123</td>\n",
              "    </tr>\n",
              "    <tr>\n",
              "      <th>sadness</th>\n",
              "      <td>0.040915</td>\n",
              "      <td>-0.223607</td>\n",
              "      <td>-0.223607</td>\n",
              "      <td>-0.223607</td>\n",
              "      <td>-0.325396</td>\n",
              "      <td>1.000000</td>\n",
              "      <td>-0.223607</td>\n",
              "      <td>-0.489898</td>\n",
              "    </tr>\n",
              "    <tr>\n",
              "      <th>surprise</th>\n",
              "      <td>0.266067</td>\n",
              "      <td>-0.055556</td>\n",
              "      <td>-0.055556</td>\n",
              "      <td>-0.055556</td>\n",
              "      <td>-0.080845</td>\n",
              "      <td>-0.223607</td>\n",
              "      <td>1.000000</td>\n",
              "      <td>-0.121716</td>\n",
              "    </tr>\n",
              "    <tr>\n",
              "      <th>worry</th>\n",
              "      <td>0.063605</td>\n",
              "      <td>-0.121716</td>\n",
              "      <td>-0.121716</td>\n",
              "      <td>-0.121716</td>\n",
              "      <td>-0.177123</td>\n",
              "      <td>-0.489898</td>\n",
              "      <td>-0.121716</td>\n",
              "      <td>1.000000</td>\n",
              "    </tr>\n",
              "  </tbody>\n",
              "</table>\n",
              "</div>"
            ],
            "text/plain": [
              "            tweet_id     empty  enthusiasm  ...   sadness  surprise     worry\n",
              "tweet_id    1.000000 -0.360744   -0.280945  ...  0.040915  0.266067  0.063605\n",
              "empty      -0.360744  1.000000   -0.055556  ... -0.223607 -0.055556 -0.121716\n",
              "enthusiasm -0.280945 -0.055556    1.000000  ... -0.223607 -0.055556 -0.121716\n",
              "love        0.321285 -0.055556   -0.055556  ... -0.223607 -0.055556 -0.121716\n",
              "neutral    -0.111527 -0.080845   -0.080845  ... -0.325396 -0.080845 -0.177123\n",
              "sadness     0.040915 -0.223607   -0.223607  ...  1.000000 -0.223607 -0.489898\n",
              "surprise    0.266067 -0.055556   -0.055556  ... -0.223607  1.000000 -0.121716\n",
              "worry       0.063605 -0.121716   -0.121716  ... -0.489898 -0.121716  1.000000\n",
              "\n",
              "[8 rows x 8 columns]"
            ]
          },
          "metadata": {
            "tags": []
          },
          "execution_count": 8
        }
      ]
    },
    {
      "cell_type": "markdown",
      "metadata": {
        "id": "Vbs7thyA-iMN",
        "colab_type": "text"
      },
      "source": [
        "**Importing seaborn for data visualization part**"
      ]
    },
    {
      "cell_type": "code",
      "metadata": {
        "id": "vs4VfFQpTGfk",
        "colab_type": "code",
        "colab": {
          "base_uri": "https://localhost:8080/",
          "height": 352
        },
        "outputId": "2890afed-6b75-425e-f59f-a98de7afedcf"
      },
      "source": [
        "import seaborn as sns\n",
        "sns.heatmap(df_a)\n",
        "plt.figure(figsize = (10,10))"
      ],
      "execution_count": null,
      "outputs": [
        {
          "output_type": "execute_result",
          "data": {
            "text/plain": [
              "<Figure size 720x720 with 0 Axes>"
            ]
          },
          "metadata": {
            "tags": []
          },
          "execution_count": 9
        },
        {
          "output_type": "display_data",
          "data": {
            "image/png": "[encoded data removed]",
            "text/plain": [
              "<Figure size 432x288 with 2 Axes>"
            ]
          },
          "metadata": {
            "tags": [],
            "needs_background": "light"
          }
        },
        {
          "output_type": "display_data",
          "data": {
            "text/plain": [
              "<Figure size 720x720 with 0 Axes>"
            ]
          },
          "metadata": {
            "tags": []
          }
        }
      ]
    },
    {
      "cell_type": "code",
      "metadata": {
        "id": "-SkoKcjwUo3f",
        "colab_type": "code",
        "colab": {
          "base_uri": "https://localhost:8080/",
          "height": 974
        },
        "outputId": "8220cd2c-68cf-4e43-f60f-cb577bd85c58"
      },
      "source": [
        "sns.pairplot(df)"
      ],
      "execution_count": null,
      "outputs": [
        {
          "output_type": "execute_result",
          "data": {
            "text/plain": [
              "<seaborn.axisgrid.PairGrid at 0x7fd68b985fd0>"
            ]
          },
          "metadata": {
            "tags": []
          },
          "execution_count": 10
        },
        {
          "output_type": "display_data",
          "data": {
            "image/png": "[encoded data removed]",
            "text/plain": [
              "<Figure size 1440x1440 with 72 Axes>"
            ]
          },
          "metadata": {
            "tags": [],
            "needs_background": "light"
          }
        }
      ]
    },
    {
      "cell_type": "markdown",
      "metadata": {
        "id": "oPQ2zk-q-tn3",
        "colab_type": "text"
      },
      "source": [
        "A Foundation of model"
      ]
    },
    {
      "cell_type": "code",
      "metadata": {
        "id": "oaVK0Mm4V4d8",
        "colab_type": "code",
        "colab": {}
      },
      "source": [
        "vocab_size = 4000\n",
        "embedding_dim = 16\n",
        "max_length = 50\n",
        "trunc_type='post'\n",
        "pad_type='post'\n",
        "oov_tok = \"<OOV>\"\n",
        "from tensorflow.keras.preprocessing.text import Tokenizer\n",
        "from tensorflow.keras.preprocessing.sequence import pad_sequences\n",
        "tokenizer = Tokenizer(num_words = vocab_size, oov_token=oov_tok)\n",
        "import tensorflow as tf\n",
        "tokenizer.fit_on_texts(df['content'])"
      ],
      "execution_count": null,
      "outputs": []
    },
    {
      "cell_type": "code",
      "metadata": {
        "id": "v9H5lMJ0U2_W",
        "colab_type": "code",
        "colab": {}
      },
      "source": [
        "word_index = tokenizer.word_index"
      ],
      "execution_count": null,
      "outputs": []
    },
    {
      "cell_type": "code",
      "metadata": {
        "id": "PcTDPP9JkehP",
        "colab_type": "code",
        "colab": {
          "base_uri": "https://localhost:8080/",
          "height": 340
        },
        "outputId": "3c4efa58-f311-4cac-ee30-470146fd176c"
      },
      "source": [
        "label = df[['empty', 'enthusiasm', 'love', 'neutral', 'sadness', 'surprise', 'worry']]\n",
        "label_data = label.values\n",
        "label_data"
      ],
      "execution_count": null,
      "outputs": [
        {
          "output_type": "execute_result",
          "data": {
            "text/plain": [
              "array([[1, 0, 0, 0, 0, 0, 0],\n",
              "       [0, 0, 0, 0, 1, 0, 0],\n",
              "       [0, 0, 0, 0, 1, 0, 0],\n",
              "       [0, 1, 0, 0, 0, 0, 0],\n",
              "       [0, 0, 0, 1, 0, 0, 0],\n",
              "       [0, 0, 0, 0, 0, 0, 1],\n",
              "       [0, 0, 0, 0, 1, 0, 0],\n",
              "       [0, 0, 0, 0, 0, 0, 1],\n",
              "       [0, 0, 0, 0, 1, 0, 0],\n",
              "       [0, 0, 0, 0, 1, 0, 0],\n",
              "       [0, 0, 0, 1, 0, 0, 0],\n",
              "       [0, 0, 0, 0, 0, 0, 1],\n",
              "       [0, 0, 0, 0, 1, 0, 0],\n",
              "       [0, 0, 0, 0, 1, 0, 0],\n",
              "       [0, 0, 0, 0, 0, 1, 0],\n",
              "       [0, 0, 0, 0, 1, 0, 0],\n",
              "       [0, 0, 1, 0, 0, 0, 0],\n",
              "       [0, 0, 0, 0, 1, 0, 0],\n",
              "       [0, 0, 0, 0, 0, 0, 1]], dtype=uint8)"
            ]
          },
          "metadata": {
            "tags": []
          },
          "execution_count": 13
        }
      ]
    },
    {
      "cell_type": "markdown",
      "metadata": {
        "id": "Rmhy90ftApb4",
        "colab_type": "text"
      },
      "source": [
        "A Single layer model without lstm"
      ]
    },
    {
      "cell_type": "code",
      "metadata": {
        "id": "wIMzbj9rfCS3",
        "colab_type": "code",
        "colab": {
          "base_uri": "https://localhost:8080/",
          "height": 289
        },
        "outputId": "707bfe6b-2e70-4382-9219-32c47d811c34"
      },
      "source": [
        "\n",
        "\"\"\"vocab_size = 1000\n",
        "embedding_dim = 16\n",
        "max_length = 32\n",
        "model = tf.keras.Sequential([\n",
        "        tf.keras.layers.Embedding(vocab_size, embedding_dim, input_length=max_length),\n",
        "        tf.keras.layers.GlobalAveragePooling1D(),\n",
        "        tf.keras.layers.Dense(6, activation='relu'),\n",
        "        tf.keras.layers.Dense(7, activation = 'softmax')\n",
        "                        \n",
        "])\n",
        "model.summary()\"\"\""
      ],
      "execution_count": null,
      "outputs": [
        {
          "output_type": "stream",
          "text": [
            "Model: \"sequential\"\n",
            "_________________________________________________________________\n",
            "Layer (type)                 Output Shape              Param #   \n",
            "=================================================================\n",
            "embedding (Embedding)        (None, 32, 16)            16000     \n",
            "_________________________________________________________________\n",
            "global_average_pooling1d (Gl (None, 16)                0         \n",
            "_________________________________________________________________\n",
            "dense (Dense)                (None, 6)                 102       \n",
            "_________________________________________________________________\n",
            "dense_1 (Dense)              (None, 7)                 49        \n",
            "=================================================================\n",
            "Total params: 16,151\n",
            "Trainable params: 16,151\n",
            "Non-trainable params: 0\n",
            "_________________________________________________________________\n"
          ],
          "name": "stdout"
        }
      ]
    },
    {
      "cell_type": "markdown",
      "metadata": {
        "id": "9RanWx5T_ahq",
        "colab_type": "text"
      },
      "source": [
        "**Modifying the input data with appending some zeros and dividing into equivalent**"
      ]
    },
    {
      "cell_type": "code",
      "metadata": {
        "id": "EVdk8GPgcybD",
        "colab_type": "code",
        "colab": {
          "base_uri": "https://localhost:8080/",
          "height": 34
        },
        "outputId": "f2625c61-7090-48e2-ff1b-dd65bb1d4e9d"
      },
      "source": [
        "ab = tokenizer.texts_to_sequences(df['content'])\n",
        "p = tf.keras.preprocessing.sequence.pad_sequences(\n",
        "   ab, maxlen=32, dtype='int64', padding='post', truncating='post',\n",
        "    value=0.0\n",
        ")\n",
        "training_test = np.array(p)\n",
        "training_test.shape"
      ],
      "execution_count": null,
      "outputs": [
        {
          "output_type": "execute_result",
          "data": {
            "text/plain": [
              "(19, 32)"
            ]
          },
          "metadata": {
            "tags": []
          },
          "execution_count": 15
        }
      ]
    },
    {
      "cell_type": "code",
      "metadata": {
        "id": "1zbsHROCeP0v",
        "colab_type": "code",
        "colab": {
          "base_uri": "https://localhost:8080/",
          "height": 377
        },
        "outputId": "1b46b0cc-be34-4e0d-fbeb-434d3257530a"
      },
      "source": [
        "num_epochs = 10\n",
        "model.compile(loss='CategoricalCrossentropy',optimizer='adam',metrics=['accuracy'])\n",
        "history = model.fit(training_test,label_data , epochs=num_epochs, validation_data=(training_test, label_data))\n"
      ],
      "execution_count": null,
      "outputs": [
        {
          "output_type": "stream",
          "text": [
            "Epoch 1/10\n",
            "1/1 [==============================] - 0s 196ms/step - loss: 1.9428 - accuracy: 0.1579 - val_loss: 1.9404 - val_accuracy: 0.2105\n",
            "Epoch 2/10\n",
            "1/1 [==============================] - 0s 22ms/step - loss: 1.9404 - accuracy: 0.2105 - val_loss: 1.9381 - val_accuracy: 0.4211\n",
            "Epoch 3/10\n",
            "1/1 [==============================] - 0s 26ms/step - loss: 1.9381 - accuracy: 0.4211 - val_loss: 1.9357 - val_accuracy: 0.4737\n",
            "Epoch 4/10\n",
            "1/1 [==============================] - 0s 21ms/step - loss: 1.9357 - accuracy: 0.4737 - val_loss: 1.9332 - val_accuracy: 0.4737\n",
            "Epoch 5/10\n",
            "1/1 [==============================] - 0s 21ms/step - loss: 1.9332 - accuracy: 0.4737 - val_loss: 1.9304 - val_accuracy: 0.4737\n",
            "Epoch 6/10\n",
            "1/1 [==============================] - 0s 23ms/step - loss: 1.9304 - accuracy: 0.4737 - val_loss: 1.9276 - val_accuracy: 0.4737\n",
            "Epoch 7/10\n",
            "1/1 [==============================] - 0s 23ms/step - loss: 1.9276 - accuracy: 0.4737 - val_loss: 1.9246 - val_accuracy: 0.4737\n",
            "Epoch 8/10\n",
            "1/1 [==============================] - 0s 21ms/step - loss: 1.9246 - accuracy: 0.4737 - val_loss: 1.9216 - val_accuracy: 0.4737\n",
            "Epoch 9/10\n",
            "1/1 [==============================] - 0s 22ms/step - loss: 1.9216 - accuracy: 0.4737 - val_loss: 1.9186 - val_accuracy: 0.4737\n",
            "Epoch 10/10\n",
            "1/1 [==============================] - 0s 20ms/step - loss: 1.9186 - accuracy: 0.4737 - val_loss: 1.9155 - val_accuracy: 0.4737\n"
          ],
          "name": "stdout"
        }
      ]
    },
    {
      "cell_type": "markdown",
      "metadata": {
        "id": "wtF-AJbJBKLF",
        "colab_type": "text"
      },
      "source": [
        "Lstm with bidirectionalities "
      ]
    },
    {
      "cell_type": "code",
      "metadata": {
        "id": "sAdUhE0fg4xx",
        "colab_type": "code",
        "colab": {
          "base_uri": "https://localhost:8080/",
          "height": 275
        },
        "outputId": "140c08f0-4018-4a89-d9b8-eb1638a4edde"
      },
      "source": [
        "num_epochs = 7\n",
        "vocab_size = 1000\n",
        "embedding_dim = 16\n",
        "max_length = 32\n",
        "model_multiple_bidi_lstm = tf.keras.Sequential([\n",
        "    tf.keras.layers.Embedding(vocab_size, embedding_dim, input_length=max_length),\n",
        "    tf.keras.layers.Bidirectional(tf.keras.layers.LSTM(embedding_dim, \n",
        "                                                       return_sequences=True)),\n",
        "    tf.keras.layers.Bidirectional(tf.keras.layers.LSTM(embedding_dim)),\n",
        "    tf.keras.layers.Dense(7, activation='softmax')\n",
        "])\n",
        "\n",
        "learning_rate = 0.1\n",
        "model_multiple_bidi_lstm.compile(loss='CategoricalCrossentropy',\n",
        "                                 optimizer=tf.keras.optimizers.Adam(learning_rate),\n",
        "                                 metrics=['accuracy'])\n",
        "history = model_multiple_bidi_lstm.fit(training_test,label_data , epochs=num_epochs, validation_data=(training_test, label_data))\n",
        "\n"
      ],
      "execution_count": null,
      "outputs": [
        {
          "output_type": "stream",
          "text": [
            "Epoch 1/7\n",
            "1/1 [==============================] - 1s 1s/step - loss: 1.9512 - accuracy: 0.0526 - val_loss: 1.4945 - val_accuracy: 0.4737\n",
            "Epoch 2/7\n",
            "1/1 [==============================] - 0s 25ms/step - loss: 1.4945 - accuracy: 0.4737 - val_loss: 1.6280 - val_accuracy: 0.4737\n",
            "Epoch 3/7\n",
            "1/1 [==============================] - 0s 25ms/step - loss: 1.6280 - accuracy: 0.4737 - val_loss: 2.8105 - val_accuracy: 0.0526\n",
            "Epoch 4/7\n",
            "1/1 [==============================] - 0s 25ms/step - loss: 2.8105 - accuracy: 0.0526 - val_loss: 1.3460 - val_accuracy: 0.4211\n",
            "Epoch 5/7\n",
            "1/1 [==============================] - 0s 23ms/step - loss: 1.3460 - accuracy: 0.4211 - val_loss: 1.1170 - val_accuracy: 0.6842\n",
            "Epoch 6/7\n",
            "1/1 [==============================] - 0s 24ms/step - loss: 1.1170 - accuracy: 0.6842 - val_loss: 1.0016 - val_accuracy: 0.6842\n",
            "Epoch 7/7\n",
            "1/1 [==============================] - 0s 24ms/step - loss: 1.0016 - accuracy: 0.6842 - val_loss: 0.8113 - val_accuracy: 0.6842\n"
          ],
          "name": "stdout"
        }
      ]
    },
    {
      "cell_type": "markdown",
      "metadata": {
        "id": "JpsI5X_NBUGo",
        "colab_type": "text"
      },
      "source": [
        "**Plots of the accuracies relation**"
      ]
    },
    {
      "cell_type": "code",
      "metadata": {
        "id": "yR8ym92QmmWQ",
        "colab_type": "code",
        "colab": {
          "base_uri": "https://localhost:8080/",
          "height": 541
        },
        "outputId": "f192987a-26ed-4991-8227-1983a5162639"
      },
      "source": [
        "import matplotlib.pyplot as plt\n",
        "\n",
        "\n",
        "def plot_graphs(history, string):\n",
        "  plt.plot(history.history[string])\n",
        "  plt.plot(history.history['val_'+string])\n",
        "  plt.xlabel(\"Epochs\")\n",
        "  plt.ylabel(string)\n",
        "  plt.legend([string, 'val_'+string])\n",
        "  plt.show()\n",
        "  \n",
        "plot_graphs(history, \"accuracy\")\n",
        "plot_graphs(history, \"loss\")"
      ],
      "execution_count": null,
      "outputs": [
        {
          "output_type": "display_data",
          "data": {
            "image/png": "[encoded data removed]",
            "text/plain": [
              "<Figure size 432x288 with 1 Axes>"
            ]
          },
          "metadata": {
            "tags": [],
            "needs_background": "light"
          }
        },
        {
          "output_type": "display_data",
          "data": {
            "image/png": "[encoded data removed]",
            "text/plain": [
              "<Figure size 432x288 with 1 Axes>"
            ]
          },
          "metadata": {
            "tags": [],
            "needs_background": "light"
          }
        }
      ]
    },
    {
      "cell_type": "markdown",
      "metadata": {
        "id": "pls2gdJIDXU5",
        "colab_type": "text"
      },
      "source": [
        "**A test dataset**"
      ]
    },
    {
      "cell_type": "code",
      "metadata": {
        "id": "KytZyKXWowPv",
        "colab_type": "code",
        "colab": {
          "base_uri": "https://localhost:8080/",
          "height": 241
        },
        "outputId": "73577c68-ff58-4d65-c0b2-f4453708b958"
      },
      "source": [
        "df_pop = pd.read_excel(r'/content/Book1.xlsx')\n",
        "training = df_pop['content'].values\n",
        "training"
      ],
      "execution_count": null,
      "outputs": [
        {
          "output_type": "execute_result",
          "data": {
            "text/plain": [
              "array(['@PerezHilton lady gaga tweeted about not being impressed by her video leaking just so you know',\n",
              "       'How are YOU convinced that I have always wanted you? What signals did I give off...damn I think I just lost another friend',\n",
              "       \"@raaaaaaek oh too bad! I hope it gets better. I've been having sleep issues lately too\",\n",
              "       \"Wondering why I'm awake at 7am,writing a new song,plotting my evil secret plots muahahaha...oh damn it,not secret anymore\",\n",
              "       'No Topic Maps talks at the Balisage Markup Conference 2009   Program online at http://tr.im/mL6Z (via @bobdc) #topicmaps',\n",
              "       \"I ate Something I don't know what it is... Why do I keep Telling things about food\",\n",
              "       \"so tired and i think i'm definitely going to get an ear infection.  going to bed &quot;early&quot; for once.\",\n",
              "       'On my way home n having 2 deal w underage girls drinking gin on da bus while talking bout keggers......damn i feel old',\n",
              "       \"@IsaacMascote  i'm sorry people are so rude to you, isaac, they should get some manners and know better than to be so lewd!\",\n",
              "       'Damm servers still down  i need to hit 80 before all the koxpers pass me',\n",
              "       \"Fudge.... Just BS'd that whole paper.... So tired.... Ugh I hate school.....  time to sleep!!!!!!!!!!!\"],\n",
              "      dtype=object)"
            ]
          },
          "metadata": {
            "tags": []
          },
          "execution_count": 19
        }
      ]
    },
    {
      "cell_type": "markdown",
      "metadata": {
        "id": "1m8NdMORDdhL",
        "colab_type": "text"
      },
      "source": [
        "**Putting the dateset through the model**"
      ]
    },
    {
      "cell_type": "code",
      "metadata": {
        "id": "b-dEZ3XsnTL4",
        "colab_type": "code",
        "colab": {
          "base_uri": "https://localhost:8080/",
          "height": 239
        },
        "outputId": "0a2108ff-2198-4905-a7e3-5a478a03b878"
      },
      "source": [
        "\n",
        "def predict_review(model, reviews):\n",
        "  # Create the sequences\n",
        "  padding_type='post'\n",
        "  sample_sequences = tokenizer.texts_to_sequences(training)\n",
        "  reviews_padded = pad_sequences(sample_sequences, padding=padding_type, \n",
        "                                 maxlen=max_length) \n",
        "  classes = model.predict(reviews_padded)\n",
        "  for x in range(len(reviews_padded)):\n",
        "    print(reviews[x])\n",
        "    print(classes[x])\n",
        "    print('\\n')\n",
        "    return reviews_padded, reviews, classes\n",
        "\n",
        "predict_review(model, training)\n",
        "reviews_padded, classes, reviews = predict_review(model, training)\n",
        "\"\"\"results = []\n",
        "for x in range(len(reviews)):\n",
        "   results.append(classes[x])\n",
        "results = np.array(results)\n",
        "class1 = np.array(results)\n",
        "class2 = results.T[1]\n",
        "class3 = results.T[2]\n",
        "class4 = results.T[3]\n",
        "class5 = results.T[4]\n",
        "class6 = results.T[5]\n",
        "class_last = results.T[6]\n",
        "print(class1)\n",
        "\"\"\""
      ],
      "execution_count": null,
      "outputs": [
        {
          "output_type": "stream",
          "text": [
            "@PerezHilton lady gaga tweeted about not being impressed by her video leaking just so you know\n",
            "[0.14331661 0.13770238 0.14277902 0.14077754 0.14981645 0.1439819\n",
            " 0.14162612]\n",
            "\n",
            "\n",
            "@PerezHilton lady gaga tweeted about not being impressed by her video leaking just so you know\n",
            "[0.14331661 0.13770238 0.14277902 0.14077754 0.14981645 0.1439819\n",
            " 0.14162612]\n",
            "\n",
            "\n"
          ],
          "name": "stdout"
        },
        {
          "output_type": "execute_result",
          "data": {
            "application/vnd.google.colaboratory.intrinsic+json": {
              "type": "string"
            },
            "text/plain": [
              "'results = []\\nfor x in range(len(reviews)):\\n   results.append(classes[x])\\nresults = np.array(results)\\nclass1 = np.array(results)\\nclass2 = results.T[1]\\nclass3 = results.T[2]\\nclass4 = results.T[3]\\nclass5 = results.T[4]\\nclass6 = results.T[5]\\nclass_last = results.T[6]\\nprint(class1)\\n'"
            ]
          },
          "metadata": {
            "tags": []
          },
          "execution_count": 20
        }
      ]
    },
    {
      "cell_type": "markdown",
      "metadata": {
        "id": "IJ7aBXmTDnBp",
        "colab_type": "text"
      },
      "source": [
        "Maximum accuracies and the indices "
      ]
    },
    {
      "cell_type": "code",
      "metadata": {
        "id": "-pOi6D1Gdoxu",
        "colab_type": "code",
        "colab": {
          "base_uri": "https://localhost:8080/",
          "height": 153
        },
        "outputId": "259f62f4-3469-4834-8d95-6afc915b19c6"
      },
      "source": [
        "print(reviews[0].max())\n",
        "print(reviews[1].max())\n",
        "print(reviews[2].max())\n",
        "print(reviews[3].max())\n",
        "print(reviews[4].max())\n",
        "print(reviews[5].max())\n",
        "print(reviews[6].max())\n",
        "l = []\n",
        "for i in range(0, 6):\n",
        "    l.append(reviews[i].max())\n",
        "print(l)"
      ],
      "execution_count": null,
      "outputs": [
        {
          "output_type": "stream",
          "text": [
            "0.14981645\n",
            "0.14986312\n",
            "0.15083168\n",
            "0.1498055\n",
            "0.149898\n",
            "0.151135\n",
            "0.14887483\n",
            "[0.14981645, 0.14986312, 0.15083168, 0.1498055, 0.149898, 0.151135]\n"
          ],
          "name": "stdout"
        }
      ]
    },
    {
      "cell_type": "code",
      "metadata": {
        "id": "hY8Gt37lLnve",
        "colab_type": "code",
        "colab": {
          "base_uri": "https://localhost:8080/",
          "height": 204
        },
        "outputId": "11db99b4-c0ab-4af8-b698-a688ea23b86e"
      },
      "source": [
        "\n",
        "#take indices along with the number.\n",
        "for i in range(len(reviews)):\n",
        "       print(reviews[i].max(), np.where(reviews == np.amax(reviews[i])))"
      ],
      "execution_count": null,
      "outputs": [
        {
          "output_type": "stream",
          "text": [
            "0.14981645 (array([0]), array([4]))\n",
            "0.14986312 (array([1]), array([4]))\n",
            "0.15083168 (array([2]), array([4]))\n",
            "0.1498055 (array([3]), array([4]))\n",
            "0.149898 (array([4]), array([4]))\n",
            "0.151135 (array([5]), array([4]))\n",
            "0.14887483 (array([6]), array([4]))\n",
            "0.14950916 (array([7]), array([4]))\n",
            "0.14789489 (array([8]), array([4]))\n",
            "0.15112668 (array([9]), array([4]))\n",
            "0.15137556 (array([10]), array([4]))\n"
          ],
          "name": "stdout"
        }
      ]
    }
  ]
}